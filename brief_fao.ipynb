{
  "nbformat": 4,
  "nbformat_minor": 0,
  "metadata": {
    "colab": {
      "provenance": [],
      "authorship_tag": "ABX9TyMwGmEN/ADtGJH4f3OAYdgt",
      "include_colab_link": true
    },
    "kernelspec": {
      "name": "python3",
      "display_name": "Python 3"
    },
    "language_info": {
      "name": "python"
    }
  },
  "cells": [
    {
      "cell_type": "markdown",
      "metadata": {
        "id": "view-in-github",
        "colab_type": "text"
      },
      "source": [
        "<a href=\"https://colab.research.google.com/github/Lorenzo1208/Brief_fao/blob/main/brief_fao.ipynb\" target=\"_parent\"><img src=\"https://colab.research.google.com/assets/colab-badge.svg\" alt=\"Open In Colab\"/></a>"
      ]
    },
    {
      "cell_type": "markdown",
      "source": [
        "# Brief FAO"
      ],
      "metadata": {
        "id": "bOYWrzJsVWMO"
      }
    },
    {
      "cell_type": "markdown",
      "source": [
        "Graphique Pareto malnutrition, population, densité population\n"
      ],
      "metadata": {
        "id": "S969EMVmWHrS"
      }
    },
    {
      "cell_type": "code",
      "source": [
        "import pandas as pd\n",
        "\n",
        "url = 'https://raw.githubusercontent.com/remijul/dataset/master/fao_2013/FAOSTAT_2013_animal.csv'\n",
        "df = pd.read_csv(url)\n",
        "print(df)"
      ],
      "metadata": {
        "id": "t8lQDoMNW_Dl",
        "colab": {
          "base_uri": "https://localhost:8080/"
        },
        "outputId": "69d3af1f-2930-4675-c893-d6f5c0c34dd4"
      },
      "execution_count": 1,
      "outputs": [
        {
          "output_type": "stream",
          "name": "stdout",
          "text": [
            "      Code Domaine              Domaine  Code Pays         Pays  Code Élément  \\\n",
            "0              FBS  Bilans Alimentaires          2  Afghanistan          5511   \n",
            "1              FBS  Bilans Alimentaires          2  Afghanistan          5611   \n",
            "2              FBS  Bilans Alimentaires          2  Afghanistan          5301   \n",
            "3              FBS  Bilans Alimentaires          2  Afghanistan          5142   \n",
            "4              FBS  Bilans Alimentaires          2  Afghanistan           645   \n",
            "...            ...                  ...        ...          ...           ...   \n",
            "37161          FBS  Bilans Alimentaires        351        Chine          5142   \n",
            "37162          FBS  Bilans Alimentaires        351        Chine           645   \n",
            "37163          FBS  Bilans Alimentaires        351        Chine           664   \n",
            "37164          FBS  Bilans Alimentaires        351        Chine           674   \n",
            "37165          FBS  Bilans Alimentaires        351        Chine           684   \n",
            "\n",
            "                                                 Élément  Code Produit  \\\n",
            "0                                             Production          2731   \n",
            "1                                Importations - Quantité          2731   \n",
            "2                               Disponibilité intérieure          2731   \n",
            "3                                             Nourriture          2731   \n",
            "4      Disponibilité alimentaire en quantité (kg/pers...          2731   \n",
            "...                                                  ...           ...   \n",
            "37161                                         Nourriture          2775   \n",
            "37162  Disponibilité alimentaire en quantité (kg/pers...          2775   \n",
            "37163     Disponibilité alimentaire (Kcal/personne/jour)          2775   \n",
            "37164  Disponibilité de protéines en quantité (g/pers...          2775   \n",
            "37165  Disponibilité de matière grasse en quantité (g...          2775   \n",
            "\n",
            "                  Produit  Code Année  Année               Unité    Valeur  \\\n",
            "0        Viande de Bovins        2013   2013  Milliers de tonnes    134.00   \n",
            "1        Viande de Bovins        2013   2013  Milliers de tonnes      6.00   \n",
            "2        Viande de Bovins        2013   2013  Milliers de tonnes    140.00   \n",
            "3        Viande de Bovins        2013   2013  Milliers de tonnes    140.00   \n",
            "4        Viande de Bovins        2013   2013                  kg      4.59   \n",
            "...                   ...         ...    ...                 ...       ...   \n",
            "37161  Plantes Aquatiques        2013   2013  Milliers de tonnes  13086.00   \n",
            "37162  Plantes Aquatiques        2013   2013                  kg      9.24   \n",
            "37163  Plantes Aquatiques        2013   2013  Kcal/personne/jour      9.00   \n",
            "37164  Plantes Aquatiques        2013   2013     g/personne/jour      0.69   \n",
            "37165  Plantes Aquatiques        2013   2013     g/personne/jour      0.04   \n",
            "\n",
            "      Symbole                             Description du Symbole  \n",
            "0           S                              Données standardisées  \n",
            "1           S                              Données standardisées  \n",
            "2           S                              Données standardisées  \n",
            "3           S                              Données standardisées  \n",
            "4          Fc                                    Donnée calculée  \n",
            "...       ...                                                ...  \n",
            "37161       A  Agrégat, peut inclure des données officielles,...  \n",
            "37162      Fc                                    Donnée calculée  \n",
            "37163      Fc                                    Donnée calculée  \n",
            "37164      Fc                                    Donnée calculée  \n",
            "37165      Fc                                    Donnée calculée  \n",
            "\n",
            "[37166 rows x 14 columns]\n"
          ]
        }
      ]
    },
    {
      "cell_type": "code",
      "source": [],
      "metadata": {
        "id": "WK14AxLZlQ4R"
      },
      "execution_count": null,
      "outputs": []
    }
  ]
}